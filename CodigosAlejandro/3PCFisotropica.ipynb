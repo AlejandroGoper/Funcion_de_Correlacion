{
 "metadata": {
  "language_info": {
   "codemirror_mode": {
    "name": "ipython",
    "version": 3
   },
   "file_extension": ".py",
   "mimetype": "text/x-python",
   "name": "python",
   "nbconvert_exporter": "python",
   "pygments_lexer": "ipython3",
   "version": "3.7.6-final"
  },
  "orig_nbformat": 2,
  "kernelspec": {
   "name": "python37664bitbasecondad0715d4af87445eab30d68688657fe29",
   "display_name": "Python 3.7.6 64-bit ('base': conda)"
  }
 },
 "nbformat": 4,
 "nbformat_minor": 2,
 "cells": [
  {
   "cell_type": "code",
   "execution_count": 1,
   "metadata": {},
   "outputs": [],
   "source": [
    "#Importando librerias utiles\n",
    "import numpy as np\n",
    "import matplotlib.pyplot as plt\n",
    "from timeit import default_timer as timer\n"
   ]
  },
  {
   "cell_type": "code",
   "execution_count": 2,
   "metadata": {},
   "outputs": [],
   "source": [
    "#Definiendo funcion para calculo de la distancia\n",
    "def distancia(x,y):\n",
    "    s1 = (x[0]-y[0])**2\n",
    "    s2 = (x[1]-y[1])**2\n",
    "    s3 = (x[2]-y[2])**2\n",
    "    s = s1 + s2 + s3\n",
    "    return np.sqrt(s)"
   ]
  },
  {
   "cell_type": "code",
   "execution_count": 3,
   "metadata": {},
   "outputs": [],
   "source": [
    "def dist(x,y):\n",
    "    return np.sqrt((x[0]-y[0])**2 + (x[1]-y[1])**2 + (x[2]-y[2])**2)"
   ]
  },
  {
   "cell_type": "code",
   "execution_count": 4,
   "metadata": {},
   "outputs": [],
   "source": [
    "#Importando datos\n",
    "datos = np.loadtxt('/home/alejandrogoper/Documentos/ProyectoCosmologia/BF_Alg/CodigosAlejandro/data_5K.dat')\n",
    "rand = np.loadtxt('/home/alejandrogoper/Documentos/ProyectoCosmologia/BF_Alg/CodigosAlejandro/rand0_5K.dat')\n",
    "#longitud de la lista datos es la cantidad total de datos\n",
    "N=len(datos)"
   ]
  },
  {
   "cell_type": "code",
   "execution_count": 5,
   "metadata": {},
   "outputs": [],
   "source": [
    "#Definiendo numero de particiones y distancia de interés\n",
    "n = 30\n",
    "d_max = 180"
   ]
  },
  {
   "cell_type": "code",
   "execution_count": 6,
   "metadata": {},
   "outputs": [],
   "source": [
    "#Creando listas para histogramas DD, DR, RR\n",
    "#recordemos que x es el vector de posiciones de los puntos medios con el cual se pueden caracterizar los intervalos\n",
    "x = []\n",
    "DDD = np.zeros((n,n,n))\n",
    "DDR = np.zeros((n,n,n))\n",
    "DRR = np.zeros((n,n,n))\n",
    "RRR = np.zeros((n,n,n))\n",
    "for i in range(n):\n",
    "    x.append((i+1/2)*d_max/n)\n",
    "#pasamos la lista x a un array \n",
    "x = np.array(x)"
   ]
  },
  {
   "cell_type": "code",
   "execution_count": 7,
   "metadata": {},
   "outputs": [
    {
     "output_type": "error",
     "ename": "KeyboardInterrupt",
     "evalue": "",
     "traceback": [
      "\u001b[0;31m---------------------------------------------------------------------------\u001b[0m",
      "\u001b[0;31mKeyboardInterrupt\u001b[0m                         Traceback (most recent call last)",
      "\u001b[0;32m<ipython-input-7-516398d5e367>\u001b[0m in \u001b[0;36m<module>\u001b[0;34m\u001b[0m\n\u001b[1;32m     15\u001b[0m         \u001b[0;32mif\u001b[0m\u001b[0;34m(\u001b[0m\u001b[0md1_rrr\u001b[0m \u001b[0;34m<\u001b[0m \u001b[0md_max\u001b[0m\u001b[0;34m)\u001b[0m\u001b[0;34m:\u001b[0m\u001b[0;34m\u001b[0m\u001b[0;34m\u001b[0m\u001b[0m\n\u001b[1;32m     16\u001b[0m             \u001b[0;32mfor\u001b[0m \u001b[0mk\u001b[0m \u001b[0;32min\u001b[0m \u001b[0mrange\u001b[0m\u001b[0;34m(\u001b[0m\u001b[0mi\u001b[0m\u001b[0;34m+\u001b[0m\u001b[0;36m2\u001b[0m\u001b[0;34m,\u001b[0m\u001b[0mN\u001b[0m\u001b[0;34m)\u001b[0m\u001b[0;34m:\u001b[0m\u001b[0;34m\u001b[0m\u001b[0;34m\u001b[0m\u001b[0m\n\u001b[0;32m---> 17\u001b[0;31m                 \u001b[0md2_rrr\u001b[0m \u001b[0;34m=\u001b[0m \u001b[0mdistancia\u001b[0m\u001b[0;34m(\u001b[0m\u001b[0mrand\u001b[0m\u001b[0;34m[\u001b[0m\u001b[0mj\u001b[0m\u001b[0;34m]\u001b[0m\u001b[0;34m,\u001b[0m\u001b[0mrand\u001b[0m\u001b[0;34m[\u001b[0m\u001b[0mk\u001b[0m\u001b[0;34m]\u001b[0m\u001b[0;34m)\u001b[0m\u001b[0;34m\u001b[0m\u001b[0;34m\u001b[0m\u001b[0m\n\u001b[0m\u001b[1;32m     18\u001b[0m                 \u001b[0md3_rrr\u001b[0m \u001b[0;34m=\u001b[0m \u001b[0mdistancia\u001b[0m\u001b[0;34m(\u001b[0m\u001b[0mrand\u001b[0m\u001b[0;34m[\u001b[0m\u001b[0mk\u001b[0m\u001b[0;34m]\u001b[0m\u001b[0;34m,\u001b[0m\u001b[0mrand\u001b[0m\u001b[0;34m[\u001b[0m\u001b[0mi\u001b[0m\u001b[0;34m]\u001b[0m\u001b[0;34m)\u001b[0m\u001b[0;34m\u001b[0m\u001b[0;34m\u001b[0m\u001b[0m\n\u001b[1;32m     19\u001b[0m                 \u001b[0;32mif\u001b[0m\u001b[0;34m(\u001b[0m\u001b[0md2_rrr\u001b[0m \u001b[0;34m<\u001b[0m \u001b[0md_max\u001b[0m \u001b[0;32mand\u001b[0m \u001b[0md3_rrr\u001b[0m \u001b[0;34m<\u001b[0m \u001b[0md_max\u001b[0m\u001b[0;34m)\u001b[0m\u001b[0;34m:\u001b[0m\u001b[0;34m\u001b[0m\u001b[0;34m\u001b[0m\u001b[0m\n",
      "\u001b[0;32m<ipython-input-2-c56d319a04d1>\u001b[0m in \u001b[0;36mdistancia\u001b[0;34m(x, y)\u001b[0m\n\u001b[1;32m      1\u001b[0m \u001b[0;31m#Definiendo funcion para calculo de la distancia\u001b[0m\u001b[0;34m\u001b[0m\u001b[0;34m\u001b[0m\u001b[0;34m\u001b[0m\u001b[0m\n\u001b[1;32m      2\u001b[0m \u001b[0;32mdef\u001b[0m \u001b[0mdistancia\u001b[0m\u001b[0;34m(\u001b[0m\u001b[0mx\u001b[0m\u001b[0;34m,\u001b[0m\u001b[0my\u001b[0m\u001b[0;34m)\u001b[0m\u001b[0;34m:\u001b[0m\u001b[0;34m\u001b[0m\u001b[0;34m\u001b[0m\u001b[0m\n\u001b[0;32m----> 3\u001b[0;31m     \u001b[0ms1\u001b[0m \u001b[0;34m=\u001b[0m \u001b[0;34m(\u001b[0m\u001b[0mx\u001b[0m\u001b[0;34m[\u001b[0m\u001b[0;36m0\u001b[0m\u001b[0;34m]\u001b[0m\u001b[0;34m-\u001b[0m\u001b[0my\u001b[0m\u001b[0;34m[\u001b[0m\u001b[0;36m0\u001b[0m\u001b[0;34m]\u001b[0m\u001b[0;34m)\u001b[0m\u001b[0;34m**\u001b[0m\u001b[0;36m2\u001b[0m\u001b[0;34m\u001b[0m\u001b[0;34m\u001b[0m\u001b[0m\n\u001b[0m\u001b[1;32m      4\u001b[0m     \u001b[0ms2\u001b[0m \u001b[0;34m=\u001b[0m \u001b[0;34m(\u001b[0m\u001b[0mx\u001b[0m\u001b[0;34m[\u001b[0m\u001b[0;36m1\u001b[0m\u001b[0;34m]\u001b[0m\u001b[0;34m-\u001b[0m\u001b[0my\u001b[0m\u001b[0;34m[\u001b[0m\u001b[0;36m1\u001b[0m\u001b[0;34m]\u001b[0m\u001b[0;34m)\u001b[0m\u001b[0;34m**\u001b[0m\u001b[0;36m2\u001b[0m\u001b[0;34m\u001b[0m\u001b[0;34m\u001b[0m\u001b[0m\n\u001b[1;32m      5\u001b[0m     \u001b[0ms3\u001b[0m \u001b[0;34m=\u001b[0m \u001b[0;34m(\u001b[0m\u001b[0mx\u001b[0m\u001b[0;34m[\u001b[0m\u001b[0;36m2\u001b[0m\u001b[0;34m]\u001b[0m\u001b[0;34m-\u001b[0m\u001b[0my\u001b[0m\u001b[0;34m[\u001b[0m\u001b[0;36m2\u001b[0m\u001b[0;34m]\u001b[0m\u001b[0;34m)\u001b[0m\u001b[0;34m**\u001b[0m\u001b[0;36m2\u001b[0m\u001b[0;34m\u001b[0m\u001b[0;34m\u001b[0m\u001b[0m\n",
      "\u001b[0;31mKeyboardInterrupt\u001b[0m: "
     ]
    }
   ],
   "source": [
    "#Calculo de distancias para RRR Y DDD\n",
    "to = timer()\n",
    "for i in range(N-2):\n",
    "    for j in range(i+1,N-1):\n",
    "        d1_ddd = distancia(datos[i], datos[j])\n",
    "        d1_rrr = distancia(rand[i], rand[j])\n",
    "        if(d1_ddd < d_max):\n",
    "            for k in range(i+2,N):\n",
    "                d2_ddd = distancia(datos[j],datos[k])\n",
    "                d3_ddd = distancia(datos[k],datos[i])\n",
    "                if(d2_ddd < d_max and d3_ddd < d_max):\n",
    "                    #aqui tengo que poner como contribuye al histograma DDD\n",
    "                    DDD[int(d1_ddd*n/d_max)][int(d2_ddd*n/d_max)][int(d3_ddd*n/d_max)] += 3\n",
    "                    #DDD.append({d1_ddd, d2_ddd, d3_ddd})\n",
    "        if(d1_rrr < d_max):\n",
    "            for k in range(i+2,N):        \n",
    "                d2_rrr = distancia(rand[j],rand[k])\n",
    "                d3_rrr = distancia(rand[k],rand[i])\n",
    "                if(d2_rrr < d_max and d3_rrr < d_max):\n",
    "                    #aqui tengo que poner como contribuye al histograma RRR\n",
    "                    RRR[int(d1_rrr*n/d_max)][int(d2_rrr*n/d_max)][int(d3_rrr*n/d_max)] += 3\n",
    "                    #RRR.append({d1_rrr, d2_rrr, d3_rrr})\n",
    "\n",
    "tf = timer()\n",
    "print(\"Calculado en: \", tf-to, \"s\")\n",
    "#TAL PARECE QUE EL APPEND ESTA SATURANDO EL CÓDIGO\n",
    "\n"
   ]
  },
  {
   "cell_type": "code",
   "execution_count": null,
   "metadata": {},
   "outputs": [],
   "source": [
    "#Calculo de distancias para DDR y RDD\n",
    "to = timer()\n",
    "for i in range(N-1):\n",
    "    for j in range(i+1,N):\n",
    "        d1_ddr = distancia(datos[i], datos[j])\n",
    "        d1_rrd = distancia(rand[i], rand[j])\n",
    "        if(d1_ddr < d_max):\n",
    "            for k in range(N):\n",
    "                d2_ddr = distancia(datos[j],rand[k])\n",
    "                d3_ddr = distancia(rand[k],datos[i])\n",
    "                if(d2_ddr < d_max and d3_ddr < d_max):\n",
    "                    #aqui tengo que poner, como contribuye al histograma DDR\n",
    "                    #DDR.append({d1_ddr,d2_ddr,d3_ddr})\n",
    "        if(d1_rrd < d_max):\n",
    "                d2_rrd = distancia(rand[j],datos[k])\n",
    "                d3_rrd = distancia(datos[k],rand[i])\n",
    "                if(d2_rrd < d_max and d3_rrd < d_max):\n",
    "                    #aqui tengo que poner como contribuye al histograma DRR\n",
    "                    #DRR.append({d1_rrd,d2_rrd,d3_rrd})\n",
    "tf = timer()\n",
    "print(\"Calculado en: \", tf-to, \"s\")"
   ]
  }
 ]
}