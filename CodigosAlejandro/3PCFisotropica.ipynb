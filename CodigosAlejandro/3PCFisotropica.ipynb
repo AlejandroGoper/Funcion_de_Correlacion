{
 "metadata": {
  "language_info": {
   "codemirror_mode": {
    "name": "ipython",
    "version": 3
   },
   "file_extension": ".py",
   "mimetype": "text/x-python",
   "name": "python",
   "nbconvert_exporter": "python",
   "pygments_lexer": "ipython3",
   "version": "3.7.6-final"
  },
  "orig_nbformat": 2,
  "kernelspec": {
   "name": "python37664bitbasecondad0715d4af87445eab30d68688657fe29",
   "display_name": "Python 3.7.6 64-bit ('base': conda)"
  }
 },
 "nbformat": 4,
 "nbformat_minor": 2,
 "cells": [
  {
   "cell_type": "code",
   "execution_count": 1,
   "metadata": {},
   "outputs": [],
   "source": [
    "#Importando librerias utiles\n",
    "import numpy as np\n",
    "import matplotlib.pyplot as plt\n",
    "from timeit import default_timer as timer\n"
   ]
  },
  {
   "cell_type": "code",
   "execution_count": 2,
   "metadata": {},
   "outputs": [],
   "source": [
    "def dist(vector):\n",
    "    return np.sqrt(vector[0]**2 + vector[1]**2 + vector[2]**2)"
   ]
  },
  {
   "cell_type": "code",
   "execution_count": 17,
   "metadata": {},
   "outputs": [],
   "source": [
    "#Normalizando histogramas puros\n",
    "def simetrizarHP(XXX, nb):\n",
    "    for i in range(nb-2):\n",
    "        for j in range(i+1, nb-1):\n",
    "            for k in range(j+1, nb):\n",
    "                valor = XXX[i,j,k] + XXX[i,k,j] + XXX[j,k,i] + XXX[j,i,k] + XXX[k,i,j] + XXX[k,j,i]\n",
    "                XXX[i,k,j] = valor\n",
    "                XXX[j,k,i] = valor\n",
    "                XXX[j,i,k] = valor\n",
    "                XXX[k,i,j] = valor\n",
    "                XXX[k,j,i] = valor\n",
    "    return XXX\n"
   ]
  },
  {
   "cell_type": "code",
   "execution_count": 18,
   "metadata": {},
   "outputs": [],
   "source": [
    "#normalizando histogramas mixtos\n",
    "def simetrizarHM(XXY,nb):\n",
    "    for i in range(nb-1):\n",
    "        for j in range(i+1, nb):\n",
    "            for k in range(nb):\n",
    "                valor = XXY[i,j,k] + XXY[i,k,j] + XXY[j,i,k] + XXY[j,k,i] +  XXY[k,i,j] + XXY[k,j,i]\n",
    "                XXY[i,k,j] = valor\n",
    "                XXY[j,i,k] = valor\n",
    "                XXY[j,k,i] = valor\n",
    "                XXY[k,i,j] = valor\n",
    "                XXY[k,j,i] = valor\n",
    "    return XXY"
   ]
  },
  {
   "cell_type": "code",
   "execution_count": 19,
   "metadata": {},
   "outputs": [],
   "source": [
    "def guardarH(cantidad):\n",
    "    np.savetxt(f'DDDiso{cantidad}.dat', DDD.reshape(n,n**2))\n",
    "    np.savetxt(f'DDRiso{cantidad}.dat', DDR.reshape(n,n**2))\n",
    "    np.savetxt(f'DRRiso{cantidad}.dat', DRR.reshape(n,n**2))\n",
    "    np.savetxt(f'RRRiso{cantidad}.dat', RRR.reshape(n,n**2))"
   ]
  },
  {
   "cell_type": "code",
   "execution_count": 6,
   "metadata": {
    "tags": []
   },
   "outputs": [
    {
     "output_type": "stream",
     "name": "stdout",
     "text": "500\n"
    }
   ],
   "source": [
    "#Importando datos\n",
    "datos = np.loadtxt('data_500.dat')\n",
    "rand = np.loadtxt('rand0_500.dat')\n",
    "#longitud de la lista datos es la cantidad total de datos\n",
    "N=len(datos)\n",
    "print(N)"
   ]
  },
  {
   "cell_type": "code",
   "execution_count": 7,
   "metadata": {},
   "outputs": [],
   "source": [
    "#Definiendo numero de particiones y distancia de interés\n",
    "n = 30\n",
    "d_max = 180"
   ]
  },
  {
   "cell_type": "code",
   "execution_count": 8,
   "metadata": {},
   "outputs": [],
   "source": [
    "#Creando listas para histogramas DD, DR, RR\n",
    "#recordemos que x es el vector de posiciones de los puntos medios con el cual se pueden caracterizar los intervalos\n",
    "x = []\n",
    "DDD = np.zeros((n,n,n))\n",
    "DDR = np.zeros((n,n,n))\n",
    "DRR = np.zeros((n,n,n))\n",
    "RRR = np.zeros((n,n,n))\n",
    "for i in range(n):\n",
    "    x.append((i+1/2)*d_max/n)\n",
    "#pasamos la lista x a un array \n",
    "x = np.array(x)"
   ]
  },
  {
   "cell_type": "code",
   "execution_count": 9,
   "metadata": {
    "tags": []
   },
   "outputs": [
    {
     "output_type": "stream",
     "name": "stdout",
     "text": "Calculado en:  278.52219277799986 s\n"
    }
   ],
   "source": [
    "#Calculo de distancias para RRR Y DDD\n",
    "to = timer()\n",
    "for i in range(N-2):\n",
    "    for j in range(i+1,N-1):\n",
    "        D1_ddd = datos[i] - datos[j]\n",
    "        d1_ddd = dist(D1_ddd)\n",
    "        D1_rrr = rand[i] - rand[j]\n",
    "        d1_rrr = dist(D1_rrr)\n",
    "        if(d1_ddd < d_max):\n",
    "            for k in range(j+1,N):\n",
    "                D2_ddd = datos[i] - datos[k]\n",
    "                d2_ddd = dist(D2_ddd)\n",
    "                D3_ddd = datos[j] - datos[k]\n",
    "                d3_ddd = dist(D3_ddd)\n",
    "                if((d2_ddd < d_max) and (d3_ddd < d_max)):\n",
    "                    #aqui tengo que poner como contribuye al histograma DDD\n",
    "                    DDD[int(d1_ddd*n/d_max), int(d2_ddd*n/d_max), int(d3_ddd*n/d_max)] += 1\n",
    "                    #DDD.append({d1_ddd, d2_ddd, d3_ddd})\n",
    "        if(d1_rrr < d_max):\n",
    "            for k in range(j+1,N):        \n",
    "                D2_rrr = rand[i] - rand[k]\n",
    "                d2_rrr = dist(D2_rrr)\n",
    "                D3_rrr = rand[j] - rand[k]\n",
    "                d3_rrr = dist(D3_rrr)\n",
    "                if((d2_rrr < d_max) and (d3_rrr < d_max)):\n",
    "                    #aqui tengo que poner como contribuye al histograma RRR\n",
    "                    RRR[int(d1_rrr*n/d_max), int(d2_rrr*n/d_max), int(d3_rrr*n/d_max)] += 1\n",
    "                    #RRR.append({d1_rrr, d2_rrr, d3_rrr})\n",
    "\n",
    "tf = timer()\n",
    "print(\"Calculado en: \", tf-to, \"s\")\n",
    "#TAL PARECE QUE EL APPEND ESTA SATURANDO EL CÓDIGO\n",
    "\n"
   ]
  },
  {
   "cell_type": "code",
   "execution_count": 10,
   "metadata": {
    "tags": []
   },
   "outputs": [
    {
     "output_type": "stream",
     "name": "stdout",
     "text": "Calculado en:  823.5578279710003 s\n"
    }
   ],
   "source": [
    "#Calculo de distancias para DDR y DRR\n",
    "to = timer()\n",
    "inc = 1/3\n",
    "for i in range(N-1):\n",
    "    for j in range(i+1,N):\n",
    "        D1_ddr = datos[i] - datos[j]\n",
    "        d1_ddr = dist(D1_ddr)\n",
    "        D1_drr = rand[i] - rand[j]\n",
    "        d1_drr = dist(D1_drr)\n",
    "        if(d1_ddr < d_max):\n",
    "            for k in range(N):\n",
    "                D2_ddr = datos[i] - rand[k]\n",
    "                d2_ddr = dist(D2_ddr)\n",
    "                D3_ddr = datos[j] - rand[k]\n",
    "                d3_ddr = dist(D3_ddr)\n",
    "                if((d2_ddr < d_max) and (d3_ddr < d_max)):\n",
    "                    #aqui tengo que poner, como contribuye al histograma DDR\n",
    "                    DDR[int(d1_ddr*n/d_max), int(d2_ddr*n/d_max), int(d3_ddr*n/d_max)] += inc\n",
    "                    #DDR.append({d1_ddr,d2_ddr,d3_ddr})\n",
    "        if(d1_drr < d_max):\n",
    "            for k in range(N):\n",
    "                D2_drr = rand[i] - datos[k]\n",
    "                d2_drr = dist(D2_drr) \n",
    "                D3_drr = rand[j] - datos[k]\n",
    "                d3_drr = dist(D3_drr) \n",
    "                if((d2_drr < d_max) and (d3_drr < d_max)):\n",
    "                    #aqui tengo que poner como contribuye al histograma DRR\n",
    "                    DRR[int(d1_drr*n/d_max), int(d2_drr*n/d_max), int(d3_drr*n/d_max)] += inc\n",
    "                    #DRR.append({d1_rrd,d2_rrd,d3_rrd})\n",
    "tf = timer()\n",
    "print(\"Calculado en: \", tf-to, \"s\")"
   ]
  },
  {
   "cell_type": "code",
   "execution_count": 12,
   "metadata": {},
   "outputs": [],
   "source": []
  },
  {
   "cell_type": "code",
   "execution_count": 15,
   "metadata": {},
   "outputs": [],
   "source": [
    "DDD = normalizarHP(DDD,n)\n",
    "RRR = normalizarHP(RRR,n)\n",
    "DDR = normaliarHM(DDR,n)\n",
    "DRR = normaliarHM(DRR,n)"
   ]
  },
  {
   "cell_type": "code",
   "execution_count": 16,
   "metadata": {},
   "outputs": [],
   "source": [
    "guardarH(\"500\")"
   ]
  },
  {
   "cell_type": "code",
   "execution_count": 12,
   "metadata": {
    "tags": []
   },
   "outputs": [],
   "source": [
    "#Cargo histogramas para normalizarlos \n",
    "#n = 30\n",
    "#DDD = np.loadtxt('DDDiso500.dat').reshape(n,n,n)\n",
    "#DDR = np.loadtxt('DDRiso500.dat').reshape(n,n,n)\n",
    "#DRR = np.loadtxt('DRRiso500.dat').reshape(n,n,n)\n",
    "#RRR = np.loadtxt('RRRiso500.dat').reshape(n,n,n)\n"
   ]
  },
  {
   "cell_type": "code",
   "execution_count": 13,
   "metadata": {},
   "outputs": [],
   "source": []
  }
 ]
}