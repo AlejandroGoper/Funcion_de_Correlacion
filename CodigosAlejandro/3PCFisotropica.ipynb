{
 "metadata": {
  "language_info": {
   "codemirror_mode": {
    "name": "ipython",
    "version": 3
   },
   "file_extension": ".py",
   "mimetype": "text/x-python",
   "name": "python",
   "nbconvert_exporter": "python",
   "pygments_lexer": "ipython3",
   "version": "3.7.6-final"
  },
  "orig_nbformat": 2,
  "kernelspec": {
   "name": "python37664bitbasecondad0715d4af87445eab30d68688657fe29",
   "display_name": "Python 3.7.6 64-bit ('base': conda)"
  }
 },
 "nbformat": 4,
 "nbformat_minor": 2,
 "cells": [
  {
   "cell_type": "code",
   "execution_count": 1,
   "metadata": {},
   "outputs": [],
   "source": [
    "#Importando librerias utiles\n",
    "import numpy as np\n",
    "import matplotlib.pyplot as plt\n",
    "from timeit import default_timer as timer\n"
   ]
  },
  {
   "cell_type": "code",
   "execution_count": 2,
   "metadata": {},
   "outputs": [],
   "source": [
    "def dist(vector):\n",
    "    return np.sqrt(vector[0]**2 + vector[1]**2 + vector[2]**2)"
   ]
  },
  {
   "cell_type": "code",
   "execution_count": 4,
   "metadata": {
    "tags": []
   },
   "outputs": [
    {
     "output_type": "stream",
     "name": "stdout",
     "text": "500\n"
    }
   ],
   "source": [
    "#Importando datos\n",
    "datos = np.loadtxt('data_500.dat')\n",
    "rand = np.loadtxt('rand0_500.dat')\n",
    "#longitud de la lista datos es la cantidad total de datos\n",
    "N=len(datos)\n",
    "print(N)"
   ]
  },
  {
   "cell_type": "code",
   "execution_count": 5,
   "metadata": {},
   "outputs": [],
   "source": [
    "#Definiendo numero de particiones y distancia de interés\n",
    "n = 30\n",
    "d_max = 180"
   ]
  },
  {
   "cell_type": "code",
   "execution_count": 6,
   "metadata": {},
   "outputs": [],
   "source": [
    "#Creando listas para histogramas DD, DR, RR\n",
    "#recordemos que x es el vector de posiciones de los puntos medios con el cual se pueden caracterizar los intervalos\n",
    "x = []\n",
    "DDD = np.zeros((n,n,n))\n",
    "DDR = np.zeros((n,n,n))\n",
    "DRR = np.zeros((n,n,n))\n",
    "RRR = np.zeros((n,n,n))\n",
    "for i in range(n):\n",
    "    x.append((i+1/2)*d_max/n)\n",
    "#pasamos la lista x a un array \n",
    "x = np.array(x)"
   ]
  },
  {
   "cell_type": "code",
   "execution_count": 7,
   "metadata": {
    "tags": []
   },
   "outputs": [
    {
     "output_type": "stream",
     "name": "stdout",
     "text": "Calculado en:  302.6814962450003 s\n"
    }
   ],
   "source": [
    "#Calculo de distancias para RRR Y DDD\n",
    "to = timer()\n",
    "for i in range(N-2):\n",
    "    for j in range(i+1,N-1):\n",
    "        D1_ddd = datos[i] - datos[j]\n",
    "        d1_ddd = dist(D1_ddd)\n",
    "        D1_rrr = rand[i] - rand[j]\n",
    "        d1_rrr = dist(D1_rrr)\n",
    "        if(d1_ddd < d_max):\n",
    "            for k in range(j+1,N):\n",
    "                D2_ddd = datos[i] - datos[k]\n",
    "                d2_ddd = dist(D2_ddd)\n",
    "                D3_ddd = datos[j] - datos[k]\n",
    "                d3_ddd = dist(D3_ddd)\n",
    "                if((d2_ddd < d_max) and (d3_ddd < d_max)):\n",
    "                    #aqui tengo que poner como contribuye al histograma DDD\n",
    "                    DDD[int(d1_ddd*n/d_max), int(d2_ddd*n/d_max), int(d3_ddd*n/d_max)] += 2\n",
    "                    #DDD.append({d1_ddd, d2_ddd, d3_ddd})\n",
    "        if(d1_rrr < d_max):\n",
    "            for k in range(j+1,N):        \n",
    "                D2_rrr = rand[i] - rand[k]\n",
    "                d2_rrr = dist(D2_rrr)\n",
    "                D3_rrr = rand[j] - rand[k]\n",
    "                d3_rrr = dist(D3_rrr)\n",
    "                if((d2_rrr < d_max) and (d3_rrr < d_max)):\n",
    "                    #aqui tengo que poner como contribuye al histograma RRR\n",
    "                    RRR[int(d1_rrr*n/d_max), int(d2_rrr*n/d_max), int(d3_rrr*n/d_max)] += 2\n",
    "                    #RRR.append({d1_rrr, d2_rrr, d3_rrr})\n",
    "\n",
    "tf = timer()\n",
    "print(\"Calculado en: \", tf-to, \"s\")\n",
    "#TAL PARECE QUE EL APPEND ESTA SATURANDO EL CÓDIGO\n",
    "\n"
   ]
  },
  {
   "cell_type": "code",
   "execution_count": 8,
   "metadata": {
    "tags": []
   },
   "outputs": [
    {
     "output_type": "stream",
     "name": "stdout",
     "text": "Calculado en:  1050.237455865 s\n"
    }
   ],
   "source": [
    "#Calculo de distancias para DDR y DRR\n",
    "to = timer()\n",
    "for i in range(N-1):\n",
    "    for j in range(i+1,N):\n",
    "        D1_ddr = datos[i] - datos[j]\n",
    "        d1_ddr = dist(D1_ddr)\n",
    "        D1_drr = datos[i] - rand[j]\n",
    "        d1_drr = dist(D1_drr)\n",
    "        if(d1_ddr < d_max):\n",
    "            for k in range(N):\n",
    "                D2_ddr = datos[i] - rand[k]\n",
    "                d2_ddr = dist(D2_ddr)\n",
    "                D3_ddr = datos[j] - rand[k]\n",
    "                d3_ddr = dist(D3_ddr)\n",
    "                if((d2_ddr < d_max) and (d3_ddr < d_max)):\n",
    "                    #aqui tengo que poner, como contribuye al histograma DDR\n",
    "                    DDR[int(d1_ddr*n/d_max), int(d2_ddr*n/d_max), int(d3_ddr*n/d_max)] += 1\n",
    "                    #DDR.append({d1_ddr,d2_ddr,d3_ddr})\n",
    "        if(d1_drr < d_max):\n",
    "            for k in range(N):\n",
    "                D2_drr = datos[i] - rand[k]\n",
    "                d2_drr = dist(D2_drr) \n",
    "                D3_drr = rand[j] - rand[k]\n",
    "                d3_drr = dist(D3_drr) \n",
    "                if((d2_drr < d_max) and (d3_drr < d_max)):\n",
    "                    #aqui tengo que poner como contribuye al histograma DRR\n",
    "                    DRR[int(d1_drr*n/d_max), int(d2_drr*n/d_max), int(d3_drr*n/d_max)] += 1\n",
    "                    #DRR.append({d1_rrd,d2_rrd,d3_rrd})\n",
    "tf = timer()\n",
    "print(\"Calculado en: \", tf-to, \"s\")"
   ]
  },
  {
   "cell_type": "code",
   "execution_count": 10,
   "metadata": {},
   "outputs": [],
   "source": [
    "np.savetxt('DDDiso500.dat', DDD.reshape(n,n**2))\n",
    "np.savetxt('DDRiso500.dat', DDR.reshape(n,n**2))\n",
    "np.savetxt('DRRiso500.dat', DRR.reshape(n,n**2))\n",
    "np.savetxt('RRRiso500.dat', RRR.reshape(n,n**2))"
   ]
  },
  {
   "cell_type": "code",
   "execution_count": null,
   "metadata": {},
   "outputs": [],
   "source": [
    "def calcular_histogramas3D(puntosD, puntosR, nbins, lim_inf, lim_sup):\n",
    "    #suponiendo que el tamaño de los bins para las 3 dimensiones es el mismo (lim_sup - lim_nf)/nbins\n",
    "    #Inicializando variables para histogramas y contadores utiles\n",
    "    DDD = np.zeros((nbins,nbins,nbins))\n",
    "    DDR = np.zeros((nbins,nbins,nbins))\n",
    "    DRR = np.zeros((nbins,nbins,nbins))\n",
    "    RRR = np.zeros((nbins,nbins,nbins))\n",
    "    n = 0\n",
    "    m = 1\n",
    "    N = len(puntosD)\n",
    "    #Ciclo para histogramas DDD Y RRR\n",
    "    for (i,j) in zip(puntosD[:N-2], puntosR[:,N-2]):\n",
    "        n+=1\n",
    "        m+=1\n",
    "        #Para DDD\n",
    "        L1_DDD = i - puntosD[n:]\n",
    "        l1_DDD = distancia(L11_DDD)\n",
    "        L2_DDD = puntosD[n:] - puntosD[m:]\n",
    "        l2_DDD = distancia(L2_DDD)\n",
    "        L3_DDD = puntosD[m:] - i\n",
    "        l3_DDD = distancia(L3_DDD)\n",
    "        HDDD, edges = np.histogramdd((l1_DDD,l2_DDD,l3_DDD), bins=(nbins, nbins, nbins), range=([lim_inf,lim_sup],[lim_inf,lim_sup],[lim_inf,lim_sup]))\n",
    "        DDD += 2*HDDD\n",
    "        #Para RRR\n",
    "        L1_RRR = j - puntosR[n:]\n",
    "        l1_RRR = distancia(L1_RRR)\n",
    "        L2_RRR = puntosR[n:] - puntosR[m:]\n",
    "        l2_RRR = distancia(L2_RRR)\n",
    "        L3_RRR = puntosD[m:] - j\n",
    "        l3_RRR = distancia(L3_RRR)\n",
    "        HRRR, edges = np.histogramdd((l1_RRR, l2_RRR, l3_RRR), bins=(nbins, nbins, nbins), range=([lim_inf,lim_sup], [lim_inf, lim_sup], [lim_inf, lim_sup])) \n",
    "        RRR += 2*HRRR\n",
    "    \n",
    "    #Ciclo para histogramas DDR y DRR\n",
    "    c = 0\n",
    "    for (a,b) in zip(puntosD[:N-1], puntosR):\n",
    "        c += 1\n",
    "        #para DDR\n",
    "        L1_DDR = a - puntosD[c:]\n",
    "        l1_DDR = distancia(L1_DDR)\n",
    "        L2_DDR = puntosD[c:] - puntosR\n",
    "        l2_DDR = distancia(L2_DDR)\n",
    "        L3_DDR = puntosR - a\n",
    "        l3_DDR = distancia(L3_DDR)\n",
    "        HDDR, edges = np.histogramdd((l1_DDR, l2_DDR, l3_DDR), bins=(nbins, nbins, nbins), range=([lim_inf, lim_sup],[lim_inf, lim_sup], [lim_inf, lim_sup]))\n",
    "        DDR += HDDR\n",
    "        \n",
    "        #para DRR\n",
    "        L1_DRR = b - puntosR[c:]\n",
    "        l1_DRR = distancia(L1_DDR)\n",
    "        L2_DRR = puntosR[c:] - puntosD\n",
    "        l2_DRR = distancia(L2_DDR)\n",
    "        L3_DRR = puntosD - a\n",
    "        l3_DRR = distancia(L3_DDR)\n",
    "        HDRR, edges = np.histogramdd((l1_DRR, l2_DRR, l3_DRR), bins=(nbins, nbins, nbins), range=([lim_inf, lim_sup],[lim_inf, lim_sup], [lim_inf, lim_sup]))\n",
    "        DRR += HDRR\n",
    "return DDD, DDR, DRR, RRR, edges\n",
    "\n",
    "        \n"
   ]
  },
  {
   "cell_type": "code",
   "execution_count": null,
   "metadata": {},
   "outputs": [],
   "source": [
    "def distancia(vector):\n",
    "    return np.sqrt(vector[:,0]**2 + vector[:,1]**2 + vector[:,2]**2)"
   ]
  }
 ]
}